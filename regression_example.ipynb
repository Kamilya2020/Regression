{
  "cells": [
    {
      "cell_type": "markdown",
      "metadata": {
        "id": "view-in-github",
        "colab_type": "text"
      },
      "source": [
        "<a href=\"https://colab.research.google.com/github/Kamilya2020/Regression/blob/main/regression_example.ipynb\" target=\"_parent\"><img src=\"https://colab.research.google.com/assets/colab-badge.svg\" alt=\"Open In Colab\"/></a>"
      ]
    },
    {
      "cell_type": "code",
      "execution_count": null,
      "metadata": {
        "id": "b93AkX4D3uvO"
      },
      "outputs": [],
      "source": [
        "import numpy as np\n",
        "from sklearn.datasets import make_regression\n",
        "import matplotlib.pyplot as plt"
      ]
    },
    {
      "cell_type": "markdown",
      "metadata": {
        "id": "SZzHKjBL3uvT"
      },
      "source": [
        "# 1. Dataset"
      ]
    },
    {
      "cell_type": "code",
      "execution_count": null,
      "metadata": {
        "id": "34n1aShL3uvU",
        "outputId": "22182e5d-6537-4a35-8f6a-8e02fdef381d"
      },
      "outputs": [
        {
          "data": {
            "text/plain": [
              "<matplotlib.collections.PathCollection at 0x18d66277668>"
            ]
          },
          "execution_count": 4,
          "metadata": {},
          "output_type": "execute_result"
        },
        {
          "data": {
            "image/png": "[encoded data removed]",
            "text/plain": [
              "<Figure size 432x288 with 1 Axes>"
            ]
          },
          "metadata": {
            "needs_background": "light"
          },
          "output_type": "display_data"
        }
      ],
      "source": [
        "x,y =make_regression(n_samples=100, n_features=1,noise=10)\n",
        "plt.scatter(x,y)"
      ]
    },
    {
      "cell_type": "code",
      "execution_count": null,
      "metadata": {
        "id": "sFjoUFpg3uvW",
        "outputId": "d27da9b8-f28e-4fae-d7b3-923512e0cb4a"
      },
      "outputs": [
        {
          "name": "stdout",
          "output_type": "stream",
          "text": [
            "(100, 1)\n"
          ]
        }
      ],
      "source": [
        "print(x.shape)"
      ]
    },
    {
      "cell_type": "code",
      "execution_count": null,
      "metadata": {
        "id": "XUAA4D333uvX",
        "outputId": "0af2aa32-9f12-403a-8fb6-da8333e00d49"
      },
      "outputs": [
        {
          "name": "stdout",
          "output_type": "stream",
          "text": [
            "(100,)\n"
          ]
        }
      ],
      "source": [
        "print(y.shape)"
      ]
    },
    {
      "cell_type": "code",
      "execution_count": null,
      "metadata": {
        "id": "Dv3XfmwO3uvX",
        "outputId": "f033f233-b2d2-4c5b-9959-f5c6f0c0cbf4"
      },
      "outputs": [
        {
          "name": "stdout",
          "output_type": "stream",
          "text": [
            "(100, 1)\n"
          ]
        }
      ],
      "source": [
        "y=y.reshape(y.shape[0],1)\n",
        "print(y.shape)"
      ]
    },
    {
      "cell_type": "code",
      "execution_count": null,
      "metadata": {
        "id": "h-YKDYyX3uvZ",
        "outputId": "f3c6309b-215d-4d1f-8940-7cd58df7bb1e"
      },
      "outputs": [
        {
          "data": {
            "text/plain": [
              "array([[ 0.54856362],\n",
              "       [ 1.53060447],\n",
              "       [ 0.49279267],\n",
              "       [ 2.02976287],\n",
              "       [-0.7809715 ],\n",
              "       [ 0.84785955],\n",
              "       [ 0.6149978 ],\n",
              "       [ 1.85216915],\n",
              "       [-0.22645289],\n",
              "       [-0.79550798],\n",
              "       [-0.84746992],\n",
              "       [-0.45810276],\n",
              "       [-0.4974062 ],\n",
              "       [ 0.20986619],\n",
              "       [-1.31278779],\n",
              "       [-1.00529461],\n",
              "       [ 1.62243424],\n",
              "       [ 0.05661612],\n",
              "       [-1.03726382],\n",
              "       [-0.05877044],\n",
              "       [-1.11343591],\n",
              "       [-1.14581744],\n",
              "       [-0.53024573],\n",
              "       [-1.40483773],\n",
              "       [ 0.96749831],\n",
              "       [-1.45986574],\n",
              "       [ 0.76605169],\n",
              "       [ 1.30703077],\n",
              "       [ 1.66054008],\n",
              "       [ 1.08779014],\n",
              "       [-0.62749466],\n",
              "       [-0.21832707],\n",
              "       [ 0.00427666],\n",
              "       [-0.2975211 ],\n",
              "       [ 0.76874803],\n",
              "       [-0.30128451],\n",
              "       [-0.69594488],\n",
              "       [-0.53898811],\n",
              "       [ 0.15920725],\n",
              "       [-0.4092417 ],\n",
              "       [ 1.29972875],\n",
              "       [-0.32376739],\n",
              "       [ 0.90468209],\n",
              "       [-0.37470521],\n",
              "       [ 1.00035461],\n",
              "       [ 0.47097071],\n",
              "       [-0.6916326 ],\n",
              "       [ 0.601835  ],\n",
              "       [-0.88631797],\n",
              "       [ 0.41083447],\n",
              "       [-1.07898973],\n",
              "       [ 0.34599657],\n",
              "       [ 0.48345098],\n",
              "       [-0.60659846],\n",
              "       [-0.21481986],\n",
              "       [-0.83810781],\n",
              "       [-1.47911096],\n",
              "       [ 2.13112441],\n",
              "       [ 0.13059256],\n",
              "       [-2.22756718],\n",
              "       [-3.17469803],\n",
              "       [ 0.14660971],\n",
              "       [ 1.13697087],\n",
              "       [ 1.56120764],\n",
              "       [ 1.85551302],\n",
              "       [ 0.36890855],\n",
              "       [-0.09132117],\n",
              "       [ 1.29785822],\n",
              "       [ 1.16151946],\n",
              "       [ 0.38480939],\n",
              "       [ 1.00100766],\n",
              "       [ 1.07530615],\n",
              "       [-0.15837981],\n",
              "       [ 1.56606726],\n",
              "       [ 0.45791212],\n",
              "       [-0.27175146],\n",
              "       [-0.09700875],\n",
              "       [ 0.62538841],\n",
              "       [ 0.58873625],\n",
              "       [-0.44546338],\n",
              "       [ 0.05238426],\n",
              "       [ 0.07178314],\n",
              "       [-0.75457727],\n",
              "       [ 1.83105368],\n",
              "       [ 0.22380328],\n",
              "       [-0.7262368 ],\n",
              "       [-0.77442717],\n",
              "       [ 1.05841582],\n",
              "       [ 1.01537382],\n",
              "       [-1.50014677],\n",
              "       [ 1.53519326],\n",
              "       [ 0.1812147 ],\n",
              "       [-0.31867347],\n",
              "       [ 0.98428577],\n",
              "       [ 1.48028397],\n",
              "       [ 0.16138629],\n",
              "       [ 0.11644597],\n",
              "       [ 0.7951185 ],\n",
              "       [ 1.30891718],\n",
              "       [-1.20545162]])"
            ]
          },
          "execution_count": 8,
          "metadata": {},
          "output_type": "execute_result"
        }
      ],
      "source": [
        "x\n"
      ]
    },
    {
      "cell_type": "code",
      "execution_count": null,
      "metadata": {
        "id": "Sm1lNsRK3uvb",
        "outputId": "869ffaaf-a817-47c7-f2ab-7015dae5dd6f"
      },
      "outputs": [
        {
          "data": {
            "text/plain": [
              "array([[ 0.54856362,  1.        ],\n",
              "       [ 1.53060447,  1.        ],\n",
              "       [ 0.49279267,  1.        ],\n",
              "       [ 2.02976287,  1.        ],\n",
              "       [-0.7809715 ,  1.        ],\n",
              "       [ 0.84785955,  1.        ],\n",
              "       [ 0.6149978 ,  1.        ],\n",
              "       [ 1.85216915,  1.        ],\n",
              "       [-0.22645289,  1.        ],\n",
              "       [-0.79550798,  1.        ],\n",
              "       [-0.84746992,  1.        ],\n",
              "       [-0.45810276,  1.        ],\n",
              "       [-0.4974062 ,  1.        ],\n",
              "       [ 0.20986619,  1.        ],\n",
              "       [-1.31278779,  1.        ],\n",
              "       [-1.00529461,  1.        ],\n",
              "       [ 1.62243424,  1.        ],\n",
              "       [ 0.05661612,  1.        ],\n",
              "       [-1.03726382,  1.        ],\n",
              "       [-0.05877044,  1.        ],\n",
              "       [-1.11343591,  1.        ],\n",
              "       [-1.14581744,  1.        ],\n",
              "       [-0.53024573,  1.        ],\n",
              "       [-1.40483773,  1.        ],\n",
              "       [ 0.96749831,  1.        ],\n",
              "       [-1.45986574,  1.        ],\n",
              "       [ 0.76605169,  1.        ],\n",
              "       [ 1.30703077,  1.        ],\n",
              "       [ 1.66054008,  1.        ],\n",
              "       [ 1.08779014,  1.        ],\n",
              "       [-0.62749466,  1.        ],\n",
              "       [-0.21832707,  1.        ],\n",
              "       [ 0.00427666,  1.        ],\n",
              "       [-0.2975211 ,  1.        ],\n",
              "       [ 0.76874803,  1.        ],\n",
              "       [-0.30128451,  1.        ],\n",
              "       [-0.69594488,  1.        ],\n",
              "       [-0.53898811,  1.        ],\n",
              "       [ 0.15920725,  1.        ],\n",
              "       [-0.4092417 ,  1.        ],\n",
              "       [ 1.29972875,  1.        ],\n",
              "       [-0.32376739,  1.        ],\n",
              "       [ 0.90468209,  1.        ],\n",
              "       [-0.37470521,  1.        ],\n",
              "       [ 1.00035461,  1.        ],\n",
              "       [ 0.47097071,  1.        ],\n",
              "       [-0.6916326 ,  1.        ],\n",
              "       [ 0.601835  ,  1.        ],\n",
              "       [-0.88631797,  1.        ],\n",
              "       [ 0.41083447,  1.        ],\n",
              "       [-1.07898973,  1.        ],\n",
              "       [ 0.34599657,  1.        ],\n",
              "       [ 0.48345098,  1.        ],\n",
              "       [-0.60659846,  1.        ],\n",
              "       [-0.21481986,  1.        ],\n",
              "       [-0.83810781,  1.        ],\n",
              "       [-1.47911096,  1.        ],\n",
              "       [ 2.13112441,  1.        ],\n",
              "       [ 0.13059256,  1.        ],\n",
              "       [-2.22756718,  1.        ],\n",
              "       [-3.17469803,  1.        ],\n",
              "       [ 0.14660971,  1.        ],\n",
              "       [ 1.13697087,  1.        ],\n",
              "       [ 1.56120764,  1.        ],\n",
              "       [ 1.85551302,  1.        ],\n",
              "       [ 0.36890855,  1.        ],\n",
              "       [-0.09132117,  1.        ],\n",
              "       [ 1.29785822,  1.        ],\n",
              "       [ 1.16151946,  1.        ],\n",
              "       [ 0.38480939,  1.        ],\n",
              "       [ 1.00100766,  1.        ],\n",
              "       [ 1.07530615,  1.        ],\n",
              "       [-0.15837981,  1.        ],\n",
              "       [ 1.56606726,  1.        ],\n",
              "       [ 0.45791212,  1.        ],\n",
              "       [-0.27175146,  1.        ],\n",
              "       [-0.09700875,  1.        ],\n",
              "       [ 0.62538841,  1.        ],\n",
              "       [ 0.58873625,  1.        ],\n",
              "       [-0.44546338,  1.        ],\n",
              "       [ 0.05238426,  1.        ],\n",
              "       [ 0.07178314,  1.        ],\n",
              "       [-0.75457727,  1.        ],\n",
              "       [ 1.83105368,  1.        ],\n",
              "       [ 0.22380328,  1.        ],\n",
              "       [-0.7262368 ,  1.        ],\n",
              "       [-0.77442717,  1.        ],\n",
              "       [ 1.05841582,  1.        ],\n",
              "       [ 1.01537382,  1.        ],\n",
              "       [-1.50014677,  1.        ],\n",
              "       [ 1.53519326,  1.        ],\n",
              "       [ 0.1812147 ,  1.        ],\n",
              "       [-0.31867347,  1.        ],\n",
              "       [ 0.98428577,  1.        ],\n",
              "       [ 1.48028397,  1.        ],\n",
              "       [ 0.16138629,  1.        ],\n",
              "       [ 0.11644597,  1.        ],\n",
              "       [ 0.7951185 ,  1.        ],\n",
              "       [ 1.30891718,  1.        ],\n",
              "       [-1.20545162,  1.        ]])"
            ]
          },
          "execution_count": 9,
          "metadata": {},
          "output_type": "execute_result"
        }
      ],
      "source": [
        "X=np.hstack((x,np.ones(x.shape)))\n",
        "X\n"
      ]
    },
    {
      "cell_type": "code",
      "execution_count": null,
      "metadata": {
        "id": "vud8ih4j3uvc"
      },
      "outputs": [],
      "source": [
        "theta=np.random.rand(2,1)"
      ]
    },
    {
      "cell_type": "code",
      "execution_count": null,
      "metadata": {
        "id": "3jdDNXQR3uvc",
        "outputId": "1bdbf32b-8621-4b45-ae12-a099f761fda7"
      },
      "outputs": [
        {
          "data": {
            "text/plain": [
              "(2, 1)"
            ]
          },
          "execution_count": 11,
          "metadata": {},
          "output_type": "execute_result"
        }
      ],
      "source": [
        "theta.shape"
      ]
    },
    {
      "cell_type": "code",
      "execution_count": null,
      "metadata": {
        "id": "XM8V6ri23uvd",
        "outputId": "001e58b7-9ffb-407b-a6b5-bfc3480f89ae"
      },
      "outputs": [
        {
          "data": {
            "text/plain": [
              "array([[0.30174106],\n",
              "       [0.04238072]])"
            ]
          },
          "execution_count": 12,
          "metadata": {},
          "output_type": "execute_result"
        }
      ],
      "source": [
        "theta"
      ]
    },
    {
      "cell_type": "code",
      "execution_count": null,
      "metadata": {
        "id": "A9P-4KkA3uve"
      },
      "outputs": [],
      "source": [
        "def model (X,theta):\n",
        "    return X.dot(theta)"
      ]
    },
    {
      "cell_type": "code",
      "execution_count": null,
      "metadata": {
        "id": "aVDbvcVa3uvf",
        "outputId": "84248b57-b62e-40bc-d62a-f6a212871d48"
      },
      "outputs": [
        {
          "data": {
            "text/plain": [
              "[<matplotlib.lines.Line2D at 0x18d662a9e48>]"
            ]
          },
          "execution_count": 14,
          "metadata": {},
          "output_type": "execute_result"
        },
        {
          "data": {
            "image/png": "[encoded data removed]",
            "text/plain": [
              "<Figure size 432x288 with 1 Axes>"
            ]
          },
          "metadata": {
            "needs_background": "light"
          },
          "output_type": "display_data"
        }
      ],
      "source": [
        "plt.scatter(x,y)\n",
        "plt.plot(x,model(X,theta),c='r')"
      ]
    },
    {
      "cell_type": "markdown",
      "metadata": {
        "id": "3AFfLQSq3uvf"
      },
      "source": [
        "# fonction coût"
      ]
    },
    {
      "cell_type": "code",
      "execution_count": null,
      "metadata": {
        "id": "rl2OpkGz3uvg"
      },
      "outputs": [],
      "source": [
        "def cost_function(X,y, theta):\n",
        "    m=len(y)\n",
        "    return 1/(2*m)*np.sum((model(X,theta)-y)**2)"
      ]
    },
    {
      "cell_type": "code",
      "execution_count": null,
      "metadata": {
        "id": "4eL4G4YT3uvg",
        "outputId": "0aa5459c-dd06-4318-cc04-56542f57e779"
      },
      "outputs": [
        {
          "data": {
            "text/plain": [
              "944.8229238626919"
            ]
          },
          "execution_count": 42,
          "metadata": {},
          "output_type": "execute_result"
        }
      ],
      "source": [
        "cost_function(X,y, theta)"
      ]
    },
    {
      "cell_type": "markdown",
      "metadata": {
        "id": "RasANC8j3uvh"
      },
      "source": [
        "# Gradient et Descente de gradient"
      ]
    },
    {
      "cell_type": "code",
      "execution_count": null,
      "metadata": {
        "id": "IxLTnVIP3uvh"
      },
      "outputs": [],
      "source": [
        "def grad(X,y, theta):\n",
        "    m=len(y)\n",
        "    return 1/m*X.T.dot(model(X,theta)-y)"
      ]
    },
    {
      "cell_type": "code",
      "execution_count": null,
      "metadata": {
        "id": "5e6d0SeJ3uvh"
      },
      "outputs": [],
      "source": [
        "def gradient_descent(X,y,theta, learning_rate,n_iterations):\n",
        "    cost_history=np.zeros(n_iterations)\n",
        "    for i in range(0,n_iterations):\n",
        "        theta= theta-learning_rate*grad(X,y,theta)\n",
        "        cost_history[i]=cost_function(X,y, theta)\n",
        "    return theta, cost_history"
      ]
    },
    {
      "cell_type": "markdown",
      "metadata": {
        "id": "yWYtjB6B3uvi"
      },
      "source": [
        "# Apprentissage"
      ]
    },
    {
      "cell_type": "code",
      "execution_count": null,
      "metadata": {
        "id": "Fd_inojn3uvi"
      },
      "outputs": [],
      "source": [
        "theta_final,cost_history =gradient_descent(X,y,theta, learning_rate=0.0001,n_iterations=100000)"
      ]
    },
    {
      "cell_type": "code",
      "execution_count": null,
      "metadata": {
        "id": "AU9OD_ud3uvi",
        "outputId": "cd53f1c3-fb79-4682-e7e2-c11f33e411e6"
      },
      "outputs": [
        {
          "data": {
            "text/plain": [
              "array([[42.04798731],\n",
              "       [-1.1356649 ]])"
            ]
          },
          "execution_count": 68,
          "metadata": {},
          "output_type": "execute_result"
        }
      ],
      "source": [
        "theta_final"
      ]
    },
    {
      "cell_type": "code",
      "execution_count": null,
      "metadata": {
        "id": "54FnMr4T3uvi",
        "outputId": "7bcb4dfb-1aa6-4bb6-c787-1d92254758e8"
      },
      "outputs": [
        {
          "data": {
            "text/plain": [
              "[<matplotlib.lines.Line2D at 0x18d679e4128>]"
            ]
          },
          "execution_count": 69,
          "metadata": {},
          "output_type": "execute_result"
        },
        {
          "data": {
            "image/png": "[encoded data removed]",
            "text/plain": [
              "<Figure size 432x288 with 1 Axes>"
            ]
          },
          "metadata": {
            "needs_background": "light"
          },
          "output_type": "display_data"
        }
      ],
      "source": [
        "predictions=model(X,theta_final)\n",
        "plt.scatter(x,y)\n",
        "plt.plot(x, predictions,c='r')"
      ]
    },
    {
      "cell_type": "code",
      "execution_count": null,
      "metadata": {
        "id": "sfOvO8AK3uvj",
        "outputId": "c3ff92ac-9e88-4abc-a171-8f5afeb1dbcf"
      },
      "outputs": [
        {
          "data": {
            "text/plain": [
              "[<matplotlib.lines.Line2D at 0x18d67a5cfd0>]"
            ]
          },
          "execution_count": 70,
          "metadata": {},
          "output_type": "execute_result"
        },
        {
          "data": {
            "image/png": "[encoded data removed]",
            "text/plain": [
              "<Figure size 432x288 with 1 Axes>"
            ]
          },
          "metadata": {
            "needs_background": "light"
          },
          "output_type": "display_data"
        }
      ],
      "source": [
        "plt.plot(range(100000),cost_history )"
      ]
    },
    {
      "cell_type": "code",
      "execution_count": null,
      "metadata": {
        "id": "qno3gdsc3uvj"
      },
      "outputs": [],
      "source": [
        "def coef_determination(y, pred):\n",
        "    u=((y-pred)**2).sum()\n",
        "    v=((y-y.mean())**2).sum()\n",
        "    return 1-u/v"
      ]
    },
    {
      "cell_type": "code",
      "execution_count": null,
      "metadata": {
        "id": "NqmliMAW3uvj",
        "outputId": "a72c4b0f-7eb1-4aad-e4db-5d5a741f2c09"
      },
      "outputs": [
        {
          "data": {
            "text/plain": [
              "0.9375327097945964"
            ]
          },
          "execution_count": 72,
          "metadata": {},
          "output_type": "execute_result"
        }
      ],
      "source": [
        "coef_determination(y, predictions)"
      ]
    },
    {
      "cell_type": "code",
      "execution_count": null,
      "metadata": {
        "id": "VGBz_ntb3uvj"
      },
      "outputs": [],
      "source": []
    }
  ],
  "metadata": {
    "kernelspec": {
      "display_name": "Python 3",
      "language": "python",
      "name": "python3"
    },
    "language_info": {
      "codemirror_mode": {
        "name": "ipython",
        "version": 3
      },
      "file_extension": ".py",
      "mimetype": "text/x-python",
      "name": "python",
      "nbconvert_exporter": "python",
      "pygments_lexer": "ipython3",
      "version": "3.6.8"
    },
    "colab": {
      "name": "regression_example.ipynb",
      "provenance": [],
      "include_colab_link": true
    }
  },
  "nbformat": 4,
  "nbformat_minor": 0
}